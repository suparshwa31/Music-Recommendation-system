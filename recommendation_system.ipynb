{
 "cells": [
  {
   "cell_type": "code",
   "execution_count": 1,
   "id": "71df1a93",
   "metadata": {},
   "outputs": [
    {
     "name": "stderr",
     "output_type": "stream",
     "text": [
      "[nltk_data] Downloading package punkt to /home/patil182/nltk_data...\n",
      "[nltk_data]   Package punkt is already up-to-date!\n"
     ]
    },
    {
     "data": {
      "text/plain": [
       "True"
      ]
     },
     "execution_count": 1,
     "metadata": {},
     "output_type": "execute_result"
    }
   ],
   "source": [
    "import nltk\n",
    "nltk.download('punkt')"
   ]
  },
  {
   "cell_type": "code",
   "execution_count": 2,
   "id": "5f87d6dd",
   "metadata": {},
   "outputs": [],
   "source": [
    "import pandas as pd"
   ]
  },
  {
   "cell_type": "code",
   "execution_count": 3,
   "id": "0a4ef50e",
   "metadata": {},
   "outputs": [],
   "source": [
    "df = pd.read_csv(\"spotify_millsongdata.csv\")"
   ]
  },
  {
   "cell_type": "code",
   "execution_count": null,
   "id": "f4a8c102",
   "metadata": {},
   "outputs": [],
   "source": []
  },
  {
   "cell_type": "code",
   "execution_count": 4,
   "id": "c4fc2c9f",
   "metadata": {},
   "outputs": [],
   "source": [
    "df = df.sample(20000).drop(\"link\", axis = 1).reset_index(drop=True)"
   ]
  },
  {
   "cell_type": "code",
   "execution_count": 5,
   "id": "8e53058e",
   "metadata": {},
   "outputs": [],
   "source": [
    "# Preprocessing text data\n",
    "df['text'] = df['text'].str.lower().replace(r'^\\w\\s', '').replace(r'\\n', ' ', regex = True)"
   ]
  },
  {
   "cell_type": "code",
   "execution_count": 6,
   "id": "6c62b405",
   "metadata": {},
   "outputs": [],
   "source": [
    "\n",
    "from nltk.stem.porter import PorterStemmer\n",
    "\n",
    "stemmer = PorterStemmer()"
   ]
  },
  {
   "cell_type": "code",
   "execution_count": 7,
   "id": "ffbdbabe",
   "metadata": {},
   "outputs": [],
   "source": [
    "def tokenizor(txt):\n",
    "    token = nltk.word_tokenize(txt)\n",
    "    similar_words = [stemmer.stem(w) for w in token]\n",
    "    return \" \".join(similar_words)\n",
    "    "
   ]
  },
  {
   "cell_type": "code",
   "execution_count": 8,
   "id": "32ca5842",
   "metadata": {},
   "outputs": [
    {
     "data": {
      "text/plain": [
       "0        ( with bob marley ) [ bob marley ] ( lauryn - ...\n",
       "1        i wake up in a differ daylight guess i have n'...\n",
       "2        last night i dream i wa look down on the plane...\n",
       "3        in the eye of the world he 's onli an ordinari...\n",
       "4        pretti smile love face and a warm breez now i ...\n",
       "                               ...                        \n",
       "19995    give someon some piec of your mind . shine it ...\n",
       "19996    ai n't the pictur enough , whi do you go throu...\n",
       "19997    take a look insid i 've got noth to hide , oh ...\n",
       "19998    time is a thing we must accept the unexpect i ...\n",
       "19999    everytim we say goodby , i die a littl , every...\n",
       "Name: text, Length: 20000, dtype: object"
      ]
     },
     "execution_count": 8,
     "metadata": {},
     "output_type": "execute_result"
    }
   ],
   "source": [
    "df['text'].apply(lambda x: tokenizor(x))"
   ]
  },
  {
   "cell_type": "code",
   "execution_count": 9,
   "id": "f8c02019",
   "metadata": {},
   "outputs": [],
   "source": [
    "from sklearn.feature_extraction.text import TfidfVectorizer\n",
    "from sklearn.metrics.pairwise import cosine_similarity\n",
    "\n",
    "tfid = TfidfVectorizer(analyzer='word', stop_words='english')"
   ]
  },
  {
   "cell_type": "code",
   "execution_count": 10,
   "id": "f472dc28",
   "metadata": {},
   "outputs": [],
   "source": [
    "matrix = tfid.fit_transform(df['text'])"
   ]
  },
  {
   "cell_type": "code",
   "execution_count": 11,
   "id": "6f0d12f0",
   "metadata": {},
   "outputs": [],
   "source": [
    "similarity = cosine_similarity(matrix)"
   ]
  },
  {
   "cell_type": "code",
   "execution_count": 12,
   "id": "6e94e84d",
   "metadata": {},
   "outputs": [],
   "source": [
    "def recommendation_function(song_name):\n",
    "    idx = df[df['song'] == song_name].index[0]\n",
    "    distance = sorted(list(enumerate(similarity[idx])), reverse=True, key = lambda x:x[1])\n",
    "    song = []\n",
    "    for s_id in distance[1:5]:\n",
    "        song.append(df.iloc[s_id[0]].song)\n",
    "    return song"
   ]
  },
  {
   "cell_type": "code",
   "execution_count": 13,
   "id": "20110244",
   "metadata": {},
   "outputs": [
    {
     "data": {
      "text/html": [
       "<div>\n",
       "<style scoped>\n",
       "    .dataframe tbody tr th:only-of-type {\n",
       "        vertical-align: middle;\n",
       "    }\n",
       "\n",
       "    .dataframe tbody tr th {\n",
       "        vertical-align: top;\n",
       "    }\n",
       "\n",
       "    .dataframe thead th {\n",
       "        text-align: right;\n",
       "    }\n",
       "</style>\n",
       "<table border=\"1\" class=\"dataframe\">\n",
       "  <thead>\n",
       "    <tr style=\"text-align: right;\">\n",
       "      <th></th>\n",
       "      <th>artist</th>\n",
       "      <th>song</th>\n",
       "      <th>text</th>\n",
       "    </tr>\n",
       "  </thead>\n",
       "  <tbody>\n",
       "    <tr>\n",
       "      <th>0</th>\n",
       "      <td>Lauryn Hill</td>\n",
       "      <td>Turn Your Lights Down Low</td>\n",
       "      <td>(with bob marley)  \\r   \\r [bob marley]  \\r (l...</td>\n",
       "    </tr>\n",
       "    <tr>\n",
       "      <th>1</th>\n",
       "      <td>Roxette</td>\n",
       "      <td>You Turn Me On</td>\n",
       "      <td>i wake up in a different daylight  \\r guess i ...</td>\n",
       "    </tr>\n",
       "    <tr>\n",
       "      <th>2</th>\n",
       "      <td>Dan Fogelberg</td>\n",
       "      <td>Holy Road</td>\n",
       "      <td>last night i dreamed i was looking down  \\r on...</td>\n",
       "    </tr>\n",
       "    <tr>\n",
       "      <th>3</th>\n",
       "      <td>Reba Mcentire</td>\n",
       "      <td>He's Only Everything</td>\n",
       "      <td>in the eyes of the world he's only an ordinary...</td>\n",
       "    </tr>\n",
       "    <tr>\n",
       "      <th>4</th>\n",
       "      <td>Chicago</td>\n",
       "      <td>No Tell Lover</td>\n",
       "      <td>pretty smile lovely face and a warm breeze now...</td>\n",
       "    </tr>\n",
       "    <tr>\n",
       "      <th>...</th>\n",
       "      <td>...</td>\n",
       "      <td>...</td>\n",
       "      <td>...</td>\n",
       "    </tr>\n",
       "    <tr>\n",
       "      <th>19995</th>\n",
       "      <td>Quicksand</td>\n",
       "      <td>Too Official</td>\n",
       "      <td>give someone some piece of your mind.  \\r shin...</td>\n",
       "    </tr>\n",
       "    <tr>\n",
       "      <th>19996</th>\n",
       "      <td>Michael Jackson</td>\n",
       "      <td>Privacy</td>\n",
       "      <td>ain't the pictures enough, why do you go throu...</td>\n",
       "    </tr>\n",
       "    <tr>\n",
       "      <th>19997</th>\n",
       "      <td>Imagine Dragons</td>\n",
       "      <td>Leave Me</td>\n",
       "      <td>take a look inside  \\r i've got nothing to hid...</td>\n",
       "    </tr>\n",
       "    <tr>\n",
       "      <th>19998</th>\n",
       "      <td>Death</td>\n",
       "      <td>Destiny</td>\n",
       "      <td>time is a thing we must accept  \\r the unexpec...</td>\n",
       "    </tr>\n",
       "    <tr>\n",
       "      <th>19999</th>\n",
       "      <td>Natalie Cole</td>\n",
       "      <td>Ev'ry Time We Say Goodbye</td>\n",
       "      <td>everytime we say goodbye, i die a little,  \\r ...</td>\n",
       "    </tr>\n",
       "  </tbody>\n",
       "</table>\n",
       "<p>20000 rows × 3 columns</p>\n",
       "</div>"
      ],
      "text/plain": [
       "                artist                       song  \\\n",
       "0          Lauryn Hill  Turn Your Lights Down Low   \n",
       "1              Roxette             You Turn Me On   \n",
       "2        Dan Fogelberg                  Holy Road   \n",
       "3        Reba Mcentire       He's Only Everything   \n",
       "4              Chicago              No Tell Lover   \n",
       "...                ...                        ...   \n",
       "19995        Quicksand               Too Official   \n",
       "19996  Michael Jackson                    Privacy   \n",
       "19997  Imagine Dragons                   Leave Me   \n",
       "19998            Death                    Destiny   \n",
       "19999     Natalie Cole  Ev'ry Time We Say Goodbye   \n",
       "\n",
       "                                                    text  \n",
       "0      (with bob marley)  \\r   \\r [bob marley]  \\r (l...  \n",
       "1      i wake up in a different daylight  \\r guess i ...  \n",
       "2      last night i dreamed i was looking down  \\r on...  \n",
       "3      in the eyes of the world he's only an ordinary...  \n",
       "4      pretty smile lovely face and a warm breeze now...  \n",
       "...                                                  ...  \n",
       "19995  give someone some piece of your mind.  \\r shin...  \n",
       "19996  ain't the pictures enough, why do you go throu...  \n",
       "19997  take a look inside  \\r i've got nothing to hid...  \n",
       "19998  time is a thing we must accept  \\r the unexpec...  \n",
       "19999  everytime we say goodbye, i die a little,  \\r ...  \n",
       "\n",
       "[20000 rows x 3 columns]"
      ]
     },
     "execution_count": 13,
     "metadata": {},
     "output_type": "execute_result"
    }
   ],
   "source": [
    "df"
   ]
  },
  {
   "cell_type": "code",
   "execution_count": 14,
   "id": "cb1846db",
   "metadata": {},
   "outputs": [
    {
     "data": {
      "text/plain": [
       "['For My Lover',\n",
       " 'Lover Come Back To Me',\n",
       " \"I Don't Want To Be Your Lover\",\n",
       " 'Drive You Home']"
      ]
     },
     "execution_count": 14,
     "metadata": {},
     "output_type": "execute_result"
    }
   ],
   "source": [
    "recommendation_function(\"No Tell Lover\")"
   ]
  },
  {
   "cell_type": "code",
   "execution_count": 15,
   "id": "3ca7cd10",
   "metadata": {},
   "outputs": [],
   "source": [
    "import pickle\n",
    "pickle.dump(similarity, open(\"similarity\", \"wb\"))\n",
    "pickle.dump(df, open(\"df\", \"wb\"))"
   ]
  },
  {
   "cell_type": "code",
   "execution_count": null,
   "id": "87658bd6",
   "metadata": {},
   "outputs": [],
   "source": []
  }
 ],
 "metadata": {
  "kernelspec": {
   "display_name": "Python 3.11 (Anaconda 2024.02)",
   "language": "python",
   "name": "anaconda-2024.02-py311"
  },
  "language_info": {
   "codemirror_mode": {
    "name": "ipython",
    "version": 3
   },
   "file_extension": ".py",
   "mimetype": "text/x-python",
   "name": "python",
   "nbconvert_exporter": "python",
   "pygments_lexer": "ipython3",
   "version": "3.11.7"
  }
 },
 "nbformat": 4,
 "nbformat_minor": 5
}
